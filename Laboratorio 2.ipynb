{
 "cells": [
  {
   "cell_type": "code",
   "execution_count": 120,
   "id": "677ba7fd-111c-4f95-8fe8-7b4ac4c811aa",
   "metadata": {
    "tags": []
   },
   "outputs": [
    {
     "name": "stdout",
     "output_type": "stream",
     "text": [
      "Horas: 0 , Minutos: 45 , Segundos: 43\n",
      "Horas: 1 , Minutos: 37 , Segundos: 51\n"
     ]
    }
   ],
   "source": [
    "# Ejercicio 1: Convertir segundos a horas, minutos y segundos\n",
    "\n",
    "def convertir_segundos(segundos):\n",
    "    horas = segundos // 3600\n",
    "    segundos_restantes = segundos % 3600\n",
    "    minutos = segundos_restantes // 60\n",
    "    segundos_finales = segundos_restantes % 60\n",
    "    print(\"Horas:\", horas, \", Minutos:\", minutos, \", Segundos:\", segundos_finales)\n",
    "\n",
    "# Ejemplos de uso\n",
    "convertir_segundos(2743)\n",
    "convertir_segundos(5871)\n"
   ]
  },
  {
   "cell_type": "code",
   "execution_count": 121,
   "id": "f94ea66c-45c2-435d-80bf-e8cb79e1c166",
   "metadata": {
    "tags": []
   },
   "outputs": [
    {
     "name": "stdout",
     "output_type": "stream",
     "text": [
      "Horas: 0 , Minutos: 45 , Segundos: 43\n",
      "Horas: 1 , Minutos: 37 , Segundos: 51\n"
     ]
    }
   ],
   "source": [
    "convertir_segundos(2743)\n",
    "convertir_segundos(5871)"
   ]
  },
  {
   "cell_type": "code",
   "execution_count": 124,
   "id": "b73f3ee5-bc4a-4ac7-a9ee-a4162c11e476",
   "metadata": {
    "tags": []
   },
   "outputs": [
    {
     "name": "stdout",
     "output_type": "stream",
     "text": [
      "*\n",
      "**\n",
      "***\n",
      "****\n",
      "*****\n",
      "******\n"
     ]
    }
   ],
   "source": [
    "# Ejercicio 2: Función para imprimir patrones triangulares\n",
    "\n",
    "def imprimir_patrones(numero, caracter):\n",
    "    if numero < 1 or numero > 20:\n",
    "        print(\"El número debe estar entre 1 y 20.\")\n",
    "        return\n",
    "    for i in range(1, numero + 1):\n",
    "        print(caracter * i)\n",
    "\n",
    "# Ejemplo de uso\n",
    "imprimir_patrones(6, \"*\")\n"
   ]
  },
  {
   "cell_type": "code",
   "execution_count": 125,
   "id": "125de063-a9f2-451c-b437-43917d7977e7",
   "metadata": {
    "tags": []
   },
   "outputs": [
    {
     "name": "stdout",
     "output_type": "stream",
     "text": [
      "Edad: 33 años, 8 meses y 18 días.\n"
     ]
    }
   ],
   "source": [
    "# Ejercicio 3: Calcular la edad de una persona a partir de su fecha de nacimiento\n",
    "\n",
    "from datetime import datetime\n",
    "\n",
    "def calcular_edad(dia_nac, mes_nac, ano_nac):\n",
    "    fecha_actual = datetime.now()\n",
    "    ano_actual = fecha_actual.year\n",
    "    mes_actual = fecha_actual.month\n",
    "    dia_actual = fecha_actual.day\n",
    "\n",
    "    edad_anos = ano_actual - ano_nac\n",
    "    edad_meses = mes_actual - mes_nac\n",
    "    edad_dias = dia_actual - dia_nac\n",
    "\n",
    "    if edad_meses < 0 or (edad_meses == 0 and edad_dias < 0):\n",
    "        edad_anos -= 1\n",
    "        edad_meses += 12\n",
    "    if edad_dias < 0:\n",
    "        dias_mes_anterior = [31, 28, 31, 30, 31, 30, 31, 31, 30, 31, 30, 31]\n",
    "        if ((ano_nac % 4 == 0 and ano_nac % 100 != 0) or ano_nac % 400 == 0) and mes_nac == 2:\n",
    "            dias_mes_anterior[1] = 29\n",
    "        edad_meses -= 1\n",
    "        edad_dias += dias_mes_anterior[mes_nac - 1]\n",
    "\n",
    "    print(\"Edad:\", edad_anos, \"años,\", edad_meses, \"meses y\", edad_dias, \"días.\")\n",
    "\n",
    "# Ejemplo de uso\n",
    "calcular_edad(15, 6, 1990)\n"
   ]
  },
  {
   "cell_type": "code",
   "execution_count": 126,
   "id": "9cc54cd2-e7d0-4eab-89eb-95389eaccef9",
   "metadata": {
    "tags": []
   },
   "outputs": [
    {
     "name": "stdout",
     "output_type": "stream",
     "text": [
      "102040570\n"
     ]
    }
   ],
   "source": [
    "# Ejercicio 4: Convertir una tupla de elementos a un string\n",
    "\n",
    "def convertir_a_string(tupla):\n",
    "    resultado = \"\"\n",
    "    for elemento in tupla:\n",
    "        resultado += str(elemento)\n",
    "    return resultado\n",
    "\n",
    "# Ejemplo de uso\n",
    "entrada = (10, 20, 40, 5, 70)\n",
    "salida = convertir_a_string(entrada)\n",
    "print(salida)\n"
   ]
  },
  {
   "cell_type": "code",
   "execution_count": 127,
   "id": "e01c3ce0-8d06-45ca-a317-ca9b53bed6fe",
   "metadata": {
    "tags": []
   },
   "outputs": [
    {
     "name": "stdout",
     "output_type": "stream",
     "text": [
      "[('X',), ('a', 'b'), ('a', 'b', 'c'), 'd']\n"
     ]
    }
   ],
   "source": [
    "# Ejercicio 5: Eliminar tuplas vacías de una lista de tuplas\n",
    "\n",
    "def eliminar_tuplas_vacias(lista_tuplas):\n",
    "    return [tupla for tupla in lista_tuplas if tupla]\n",
    "\n",
    "# Ejemplo de uso\n",
    "lista = [(), (), ('X',), ('a', 'b'), ('a', 'b', 'c'), ('d')]\n",
    "resultado = eliminar_tuplas_vacias(lista)\n",
    "print(resultado)\n",
    "\n"
   ]
  },
  {
   "cell_type": "code",
   "execution_count": 128,
   "id": "b17fcbb2-6c35-4950-8c44-b337094b9816",
   "metadata": {
    "tags": []
   },
   "outputs": [
    {
     "name": "stdout",
     "output_type": "stream",
     "text": [
      "(10.5, 44.0, 58.0)\n"
     ]
    }
   ],
   "source": [
    "# Ejercicio 6: Calcular el promedio de cada tupla en una tupla de tuplas\n",
    "\n",
    "def calcular_promedios(tupla_de_tuplas):\n",
    "    return tuple(sum(tupla) / len(tupla) for tupla in tupla_de_tuplas)\n",
    "\n",
    "# Ejemplo de uso\n",
    "entrada = ((10, 10, 10, 12), (30, 45, 56, 45), (81, 80, 39, 32))\n",
    "resultado = calcular_promedios(entrada)\n",
    "print(resultado)\n"
   ]
  },
  {
   "cell_type": "code",
   "execution_count": 129,
   "id": "c077de4f-28dd-4744-a8dc-5b1acdb93d9c",
   "metadata": {
    "tags": []
   },
   "outputs": [
    {
     "name": "stdout",
     "output_type": "stream",
     "text": [
      "\n",
      "1. Agregar factura\n",
      "2. Pagar factura\n",
      "3. Terminar\n"
     ]
    },
    {
     "name": "stdin",
     "output_type": "stream",
     "text": [
      "Seleccione una opción:  1\n",
      "Ingrese el número de factura (4 dígitos):  1234\n",
      "Ingrese el monto de la factura:  10.23\n"
     ]
    },
    {
     "name": "stdout",
     "output_type": "stream",
     "text": [
      "Factura agregada correctamente.\n",
      "Facturas pendientes:\n",
      "Número de factura: 1234, Monto: 10.23\n",
      "\n",
      "1. Agregar factura\n",
      "2. Pagar factura\n",
      "3. Terminar\n"
     ]
    },
    {
     "name": "stdin",
     "output_type": "stream",
     "text": [
      "Seleccione una opción:  2\n",
      "Ingrese el número de factura que desea pagar:  43\n"
     ]
    },
    {
     "name": "stdout",
     "output_type": "stream",
     "text": [
      "La factura ingresada no existe.\n",
      "Facturas pendientes:\n",
      "Número de factura: 1234, Monto: 10.23\n",
      "\n",
      "1. Agregar factura\n",
      "2. Pagar factura\n",
      "3. Terminar\n"
     ]
    },
    {
     "name": "stdin",
     "output_type": "stream",
     "text": [
      "Seleccione una opción:  2\n",
      "Ingrese el número de factura que desea pagar:  1234\n"
     ]
    },
    {
     "name": "stdout",
     "output_type": "stream",
     "text": [
      "Factura 1234 pagada correctamente por un monto de 10.23.\n",
      "Facturas pendientes:\n",
      "\n",
      "1. Agregar factura\n",
      "2. Pagar factura\n",
      "3. Terminar\n"
     ]
    },
    {
     "name": "stdin",
     "output_type": "stream",
     "text": [
      "Seleccione una opción:  3\n"
     ]
    },
    {
     "name": "stdout",
     "output_type": "stream",
     "text": [
      "Terminando programa.\n"
     ]
    }
   ],
   "source": [
    "def mostrar_facturas(facturas):\n",
    "    print(\"Facturas pendientes:\")\n",
    "    for factura, monto in facturas.items():\n",
    "        print(f\"Número de factura: {factura}, Monto: {monto}\")\n",
    "\n",
    "def agregar_factura(facturas):\n",
    "    num_factura = input(\"Ingrese el número de factura (4 dígitos): \")\n",
    "    while not num_factura.isdigit() or len(num_factura) != 4:\n",
    "        print(\"Número de factura inválido. Debe ser un número de 4 dígitos.\")\n",
    "        num_factura = input(\"Ingrese el número de factura (4 dígitos): \")\n",
    "    monto = float(input(\"Ingrese el monto de la factura: \"))\n",
    "    facturas[num_factura] = monto\n",
    "    print(\"Factura agregada correctamente.\")\n",
    "    mostrar_facturas(facturas)\n",
    "\n",
    "def pagar_factura(facturas):\n",
    "    num_factura = input(\"Ingrese el número de factura que desea pagar: \")\n",
    "    if num_factura in facturas:\n",
    "        monto_pagado = facturas.pop(num_factura)\n",
    "        print(f\"Factura {num_factura} pagada correctamente por un monto de {monto_pagado}.\")\n",
    "    else:\n",
    "        print(\"La factura ingresada no existe.\")\n",
    "    mostrar_facturas(facturas)\n",
    "\n",
    "def gestionar_facturas():\n",
    "    facturas = {}\n",
    "    while True:\n",
    "        print(\"\\n1. Agregar factura\")\n",
    "        print(\"2. Pagar factura\")\n",
    "        print(\"3. Terminar\")\n",
    "        opcion = input(\"Seleccione una opción: \")\n",
    "        if opcion == \"1\":\n",
    "            agregar_factura(facturas)\n",
    "        elif opcion == \"2\":\n",
    "            pagar_factura(facturas)\n",
    "        elif opcion == \"3\":\n",
    "            print(\"Terminando programa.\")\n",
    "            break\n",
    "        else:\n",
    "            print(\"Opción inválida. Por favor, seleccione una opción válida.\")\n",
    "\n",
    "gestionar_facturas()\n"
   ]
  },
  {
   "cell_type": "code",
   "execution_count": 132,
   "id": "bc3ef3be-90b7-4d5a-b9e0-5566fe939245",
   "metadata": {
    "tags": []
   },
   "outputs": [
    {
     "name": "stdout",
     "output_type": "stream",
     "text": [
      "Probabilidad de la intersección de los sets: 0.021739130434782608\n",
      "Probabilidad de la unión de los sets: 0.9387755102040817\n"
     ]
    }
   ],
   "source": [
    "import random\n",
    "\n",
    "# Función para crear un set con todas las cartas de una baraja de Poker\n",
    "def crear_baraja():\n",
    "    tipos = ['T', 'C', 'P', 'E']\n",
    "    numeros = list(range(1, 14))\n",
    "    baraja = set()\n",
    "    for tipo in tipos:\n",
    "        for numero in numeros:\n",
    "            baraja.add(f\"{tipo}{numero:02d}\")\n",
    "    return baraja\n",
    "\n",
    "# Función para crear dos sets nuevos de cartas con longitudes aleatorias\n",
    "def crear_sets_aleatorios(baraja):\n",
    "    baraja_lista = list(baraja)  # Convertir el conjunto en una lista\n",
    "    longitud_set1 = random.randint(1, len(baraja))\n",
    "    longitud_set2 = random.randint(1, len(baraja))\n",
    "    set1 = set(random.sample(baraja_lista, longitud_set1))\n",
    "    set2 = set(random.sample(baraja_lista, longitud_set2))\n",
    "    return set1, set2\n",
    "\n",
    "# Función para calcular la probabilidad de la intersección de dos sets\n",
    "def calcular_probabilidad_interseccion(set1, set2):\n",
    "    interseccion = set1.intersection(set2)\n",
    "    probabilidad = len(interseccion) / (len(set1) * len(set2))\n",
    "    return probabilidad\n",
    "\n",
    "# Función para calcular la probabilidad de la unión de dos sets\n",
    "def calcular_probabilidad_union(set1, set2):\n",
    "    union = set1.union(set2)\n",
    "    probabilidad = len(union) / (len(set1) + len(set2))\n",
    "    return probabilidad\n",
    "\n",
    "# Crear la baraja de Poker\n",
    "baraja = crear_baraja()\n",
    "\n",
    "# Crear dos sets nuevos de cartas con longitudes aleatorias\n",
    "set1, set2 = crear_sets_aleatorios(baraja)\n",
    "\n",
    "# Calcular la probabilidad de la intersección de los sets\n",
    "prob_interseccion = calcular_probabilidad_interseccion(set1, set2)\n",
    "print(\"Probabilidad de la intersección de los sets:\", prob_interseccion)\n",
    "\n",
    "# Calcular la probabilidad de la unión de los sets\n",
    "prob_union = calcular_probabilidad_union(set1, set2)\n",
    "print(\"Probabilidad de la unión de los sets:\", prob_union)\n"
   ]
  }
 ],
 "metadata": {
  "kernelspec": {
   "display_name": "Python 3 (ipykernel)",
   "language": "python",
   "name": "python3"
  },
  "language_info": {
   "codemirror_mode": {
    "name": "ipython",
    "version": 3
   },
   "file_extension": ".py",
   "mimetype": "text/x-python",
   "name": "python",
   "nbconvert_exporter": "python",
   "pygments_lexer": "ipython3",
   "version": "3.11.5"
  }
 },
 "nbformat": 4,
 "nbformat_minor": 5
}
